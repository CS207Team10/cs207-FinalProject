{
 "cells": [
  {
   "cell_type": "code",
   "execution_count": 60,
   "metadata": {},
   "outputs": [
    {
     "name": "stdout",
     "output_type": "stream",
     "text": [
      "Overwriting test_chemkin.py\n"
     ]
    }
   ],
   "source": [
    "%%file test_chemkin.py\n",
    "import numpy as np\n",
    "import chemkin\n",
    "\n",
    "#test k_const\n",
    "def test_k_const():\n",
    "    assert chemkin.ChemUtil.k_const(4.0) == 4.0\n",
    "    \n",
    "def test_k_const_neg():\n",
    "    try:\n",
    "        chemkin.ChemUtil.k_const(-1.0)\n",
    "    except ValueError as err:\n",
    "        assert(type(err) == ValueError)\n",
    "\n",
    "#test k_arr\n",
    "def test_k_arr():\n",
    "    assert chemkin.ChemUtil.k_arr(2.0, 3.0, 100.0) == 1.9927962618542914\n",
    "    \n",
    "def test_k_arr_A_neg():\n",
    "    try:\n",
    "        chemkin.ChemUtil.k_arr(-1.0, 3.0, 100.0)\n",
    "    except ValueError as err:\n",
    "        assert(type(err) == ValueError)\n",
    "        \n",
    "def test_k_arr_T_neg():\n",
    "    try:\n",
    "        chemkin.ChemUtil.k_arr(1.0, 3.0, -100.0)\n",
    "    except ValueError as err:\n",
    "        assert(type(err) == ValueError)\n",
    "\n",
    "def test_k_arr_R_neg():\n",
    "    try:\n",
    "        chemkin.ChemUtil.k_arr(1.0, 3.0, 100.0, -45.0)\n",
    "    except ValueError as err:\n",
    "        assert(type(err) == ValueError)\n",
    "\n",
    "#test k_mod_arr\n",
    "def test_k_mod_arr():\n",
    "    assert chemkin.ChemUtil.k_mod_arr(2.0, -0.5, 3.0, 100.0) == 0.19927962618542916\n",
    "    \n",
    "def test_k_mod_arr_A_neg():\n",
    "    try:\n",
    "        chemkin.ChemUtil.k_mod_arr(-1.0, 3.0, 4.0, 100.0)\n",
    "    except ValueError as err:\n",
    "        assert(type(err) == ValueError)\n",
    "        \n",
    "def test_k_mod_arr_T_neg():\n",
    "    try:\n",
    "        chemkin.ChemUtil.k_mod_arr(1.0, 3.0, 4.0, -100.0)\n",
    "    except ValueError as err:\n",
    "        assert(type(err) == ValueError)\n",
    "\n",
    "def test_k_mod_arr_R_neg():\n",
    "    try:\n",
    "        chemkin.ChemUtil.k_mod_arr(1.0, 3.0, 100.0, -4.9)\n",
    "    except ValueError as err:\n",
    "        assert(type(err) == ValueError)\n",
    "\n",
    "#test progress_rate\n",
    "def test_progress_rate():\n",
    "    assert(np.all(chemkin.ChemUtil.progress_rate(np.array([[2.0, 1.0], [1.0, 0.0], [0.0, 1.0]]), np.array([10.0, 10.0]), np.array([2.0, 1.0, 1.0])) == [40., 20.]))\n",
    "    "
   ]
  },
  {
   "cell_type": "code",
   "execution_count": 63,
   "metadata": {},
   "outputs": [],
   "source": [
    "!pytest --cov"
   ]
  },
  {
   "cell_type": "code",
   "execution_count": null,
   "metadata": {
    "collapsed": true
   },
   "outputs": [],
   "source": []
  },
  {
   "cell_type": "code",
   "execution_count": null,
   "metadata": {
    "collapsed": true
   },
   "outputs": [],
   "source": []
  }
 ],
 "metadata": {
  "kernelspec": {
   "display_name": "Python 3",
   "language": "python",
   "name": "python3"
  },
  "language_info": {
   "codemirror_mode": {
    "name": "ipython",
    "version": 3
   },
   "file_extension": ".py",
   "mimetype": "text/x-python",
   "name": "python",
   "nbconvert_exporter": "python",
   "pygments_lexer": "ipython3",
   "version": "3.6.1"
  }
 },
 "nbformat": 4,
 "nbformat_minor": 2
}
