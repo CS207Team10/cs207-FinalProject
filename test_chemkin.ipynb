{
 "cells": [
  {
   "cell_type": "code",
   "execution_count": 123,
   "metadata": {},
   "outputs": [
    {
     "name": "stdout",
     "output_type": "stream",
     "text": [
      "Overwriting test_chemkin.py\n"
     ]
    }
   ],
   "source": [
    "%%file test_chemkin.py\n",
    "import numpy as np\n",
    "import chemkin\n",
    "\n",
    "#test k_const\n",
    "def test_k_const():\n",
    "    assert chemkin.ChemUtil.k_const(4.0) == 4.0\n",
    "    \n",
    "def test_k_const_neg():\n",
    "    try:\n",
    "        chemkin.ChemUtil.k_const(-1.0)\n",
    "    except ValueError as err:\n",
    "        assert(type(err) == ValueError)\n",
    "\n",
    "#test k_arr\n",
    "def test_k_arr():\n",
    "    assert chemkin.ChemUtil.k_arr(2.0, 3.0, 100.0) == 1.9927962618542914\n",
    "    \n",
    "def test_k_arr_A_neg():\n",
    "    try:\n",
    "        chemkin.ChemUtil.k_arr(-1.0, 3.0, 100.0)\n",
    "    except ValueError as err:\n",
    "        assert(type(err) == ValueError)\n",
    "        \n",
    "def test_k_arr_T_neg():\n",
    "    try:\n",
    "        chemkin.ChemUtil.k_arr(1.0, 3.0, -100.0)\n",
    "    except ValueError as err:\n",
    "        assert(type(err) == ValueError)\n",
    "\n",
    "def test_k_arr_R_neg():\n",
    "    try:\n",
    "        chemkin.ChemUtil.k_arr(1.0, 3.0, 100.0, -45.0)\n",
    "    except ValueError as err:\n",
    "        assert(type(err) == ValueError)\n",
    "\n",
    "#test k_mod_arr\n",
    "def test_k_mod_arr():\n",
    "    assert chemkin.ChemUtil.k_mod_arr(2.0, -0.5, 3.0, 100.0) == 0.19927962618542916\n",
    "    \n",
    "def test_k_mod_arr_A_neg():\n",
    "    try:\n",
    "        chemkin.ChemUtil.k_mod_arr(-1.0, 3.0, 4.0, 100.0)\n",
    "    except ValueError as err:\n",
    "        assert(type(err) == ValueError)\n",
    "        \n",
    "def test_k_mod_arr_T_neg():\n",
    "    try:\n",
    "        chemkin.ChemUtil.k_mod_arr(1.0, 3.0, 4.0, -100.0)\n",
    "    except ValueError as err:\n",
    "        assert(type(err) == ValueError)\n",
    "\n",
    "def test_k_mod_arr_R_neg():\n",
    "    try:\n",
    "        chemkin.ChemUtil.k_mod_arr(1.0, 3.0, 100.0, -4.9)\n",
    "    except ValueError as err:\n",
    "        assert(type(err) == ValueError)\n",
    "\n",
    "#test progress_rate\n",
    "def test_progress_rate():\n",
    "    assert(np.all(chemkin.ChemUtil.progress_rate(np.array([[2.0, 1.0], [1.0, 0.0], [0.0, 1.0]]), np.array([10.0, 10.0]), np.array([2.0, 1.0, 1.0])) == [40., 20.]))\n",
    "    \n",
    "def test_progress_rate_rj_neg():\n",
    "    try:\n",
    "        chemkin.ChemUtil.progress_rate(np.array([[2.0, 1.0], [1.0, 0.0], [0.0, 1.0]]), np.array([-10.0, -10.0]), np.array([2.0, 1.0, 1.0]))\n",
    "    except ValueError as err:\n",
    "        assert(type(err) == ValueError)\n",
    "        \n",
    "def test_progress_rate_concs_neg():\n",
    "    try:\n",
    "        chemkin.ChemUtil.progress_rate(np.array([[2.0, 1.0], [1.0, 0.0], [0.0, 1.0]]), np.array([10.0, 10.0]), np.array([-2.0, -1.0, -1.0]))\n",
    "    except ValueError as err:\n",
    "        assert(type(err) == ValueError)\n",
    "\n",
    "def test_progress_rate_nu_react_neg():\n",
    "    try:\n",
    "        chemkin.ChemUtil.progress_rate(np.array([[-2.0, -1.0], [1.0, 0.0], [0.0, 1.0]]), np.array([10.0, 10.0]), np.array([2.0, 1.0, 1.0]))\n",
    "    except ValueError as err:\n",
    "        assert(type(err) == ValueError)\n",
    "\n",
    "# test reaction_rate\n",
    "def test_reaction_rate():\n",
    "    assert(np.all(chemkin.type( ChemUtil.parse( \"./test1.xml\", 340, 8.314)[0] )  == <class 'chemkin.Reaction'> ))\n",
    "\n",
    "# test parse (To be added: Not sure what is the best test...)\n",
    "def test_parse():\n",
    "    assert(np.all(chemkin.ChemUtil.parse( \"./test1.xml\", 340, 8.314) ==         [<chemkin.Reaction at 0x10bf70320>, <chemkin.Reaction at 0x10bf701d0>, <chemkin.Reaction at 0x10bf702e8>]))\n",
    "   \n",
    "def test_parse_Not_XML():\n",
    "    try:\n",
    "        chemkin.ChemUtil.parse( \"./test1.pdf\", 340, 8.314)\n",
    "    except ValueError as err:\n",
    "        assert(type(err) == ValueError)\n",
    "\n",
    "def test_parse_T_neg():\n",
    "    try:\n",
    "        chemkin.ChemUtil.parse( \"./test1.xml\", -340, 8.314)\n",
    "    except ValueError as err:\n",
    "        assert(type(err) == ValueError)\n",
    "        \n",
    "def test_parse_R_neg():\n",
    "    try:\n",
    "        chemkin.ChemUtil.parse( \"./test1.xml\", 340, -8.314)\n",
    "    except ValueError as err:\n",
    "        assert(type(err) == ValueError)"
   ]
  },
  {
   "cell_type": "code",
   "execution_count": 211,
   "metadata": {},
   "outputs": [
    {
     "name": "stdout",
     "output_type": "stream",
     "text": [
      "\u001b[1m============================= test session starts ==============================\u001b[0m\n",
      "platform darwin -- Python 3.6.1, pytest-3.2.1, py-1.4.33, pluggy-0.4.0\n",
      "rootdir: /Users/hidenoritanaka/Documents/GitHub/cs207-FinalProject, inifile: setup.cfg\n",
      "plugins: cov-2.5.1\n",
      "collected 24 items                                                              \u001b[0m\u001b[1m\u001b[1m\n",
      "\n",
      "chemkin.py ......\n",
      "test_chemkin.py ..................Coverage.py warning: Module roots was never imported. (module-not-imported)\n",
      "Coverage.py warning: No data was collected. (no-data-collected)\n",
      "\n",
      "\n",
      "\u001b[32m\u001b[1m========================== 24 passed in 0.15 seconds ===========================\u001b[0m\n",
      "ERROR: Failed to generate report: No data to report.\n",
      "\n"
     ]
    }
   ],
   "source": [
    "!pytest "
   ]
  },
  {
   "cell_type": "markdown",
   "metadata": {},
   "source": [
    "# Examples"
   ]
  },
  {
   "cell_type": "code",
   "execution_count": 78,
   "metadata": {},
   "outputs": [],
   "source": [
    "import numpy as np\n",
    "import chemkin"
   ]
  },
  {
   "cell_type": "code",
   "execution_count": 79,
   "metadata": {},
   "outputs": [
    {
     "data": {
      "text/plain": [
       "array([ 500.,  560.,  580.])"
      ]
     },
     "execution_count": 79,
     "metadata": {},
     "output_type": "execute_result"
    }
   ],
   "source": [
    "# Example reaction_rate\n",
    "chemkin.ChemUtil.reaction_rate(np.array([[2.0, 1.0], [1.0, 0.0], [0.0, 1.0]]), np.array([10.0, 10.0]), np.array([10.0, 10.0]), np.array([2.0, 1.0, 1.0])) "
   ]
  },
  {
   "cell_type": "code",
   "execution_count": 196,
   "metadata": {},
   "outputs": [
    {
     "data": {
      "text/plain": [
       "chemkin.Reaction"
      ]
     },
     "execution_count": 196,
     "metadata": {},
     "output_type": "execute_result"
    }
   ],
   "source": [
    "type( chemkin.ChemUtil.parse( \"./test1.xml\", 340, 8.314)[0] )"
   ]
  },
  {
   "cell_type": "code",
   "execution_count": 193,
   "metadata": {},
   "outputs": [
    {
     "ename": "TypeError",
     "evalue": "buildFromList() takes 2 positional arguments but 3 were given",
     "output_type": "error",
     "traceback": [
      "\u001b[0;31m---------------------------------------------------------------------------\u001b[0m",
      "\u001b[0;31mTypeError\u001b[0m                                 Traceback (most recent call last)",
      "\u001b[0;32m<ipython-input-193-9ce1db4cfbbe>\u001b[0m in \u001b[0;36m<module>\u001b[0;34m()\u001b[0m\n\u001b[0;32m----> 1\u001b[0;31m \u001b[0mchemkin\u001b[0m\u001b[0;34m.\u001b[0m\u001b[0mReactionSystem\u001b[0m\u001b[0;34m.\u001b[0m\u001b[0mbuildFromList\u001b[0m\u001b[0;34m(\u001b[0m\u001b[0;36m300\u001b[0m\u001b[0;34m,\u001b[0m\u001b[0;36m8.314\u001b[0m\u001b[0;34m,\u001b[0m\u001b[0mnp\u001b[0m\u001b[0;34m.\u001b[0m\u001b[0marray\u001b[0m\u001b[0;34m(\u001b[0m\u001b[0;34m[\u001b[0m \u001b[0;36m40.\u001b[0m\u001b[0;34m,\u001b[0m  \u001b[0;36m20.\u001b[0m\u001b[0;34m]\u001b[0m\u001b[0;34m)\u001b[0m\u001b[0;34m)\u001b[0m\u001b[0;34m\u001b[0m\u001b[0m\n\u001b[0m",
      "\u001b[0;31mTypeError\u001b[0m: buildFromList() takes 2 positional arguments but 3 were given"
     ]
    }
   ],
   "source": [
    "chemkin.ReactionSystem.buildFromList(300,8.314,np.array([ 40.,  20.]))"
   ]
  },
  {
   "cell_type": "code",
   "execution_count": 192,
   "metadata": {},
   "outputs": [
    {
     "ename": "AttributeError",
     "evalue": "'ReactionSystem' object has no attribute 'reaction_rate'",
     "output_type": "error",
     "traceback": [
      "\u001b[0;31m---------------------------------------------------------------------------\u001b[0m",
      "\u001b[0;31mAttributeError\u001b[0m                            Traceback (most recent call last)",
      "\u001b[0;32m<ipython-input-192-392c1320b523>\u001b[0m in \u001b[0;36m<module>\u001b[0;34m()\u001b[0m\n\u001b[1;32m      1\u001b[0m \u001b[0mhey\u001b[0m \u001b[0;34m=\u001b[0m \u001b[0mchemkin\u001b[0m\u001b[0;34m.\u001b[0m\u001b[0mReactionSystem\u001b[0m\u001b[0;34m(\u001b[0m\u001b[0;36m300\u001b[0m\u001b[0;34m,\u001b[0m\u001b[0;36m8.314\u001b[0m\u001b[0;34m,\u001b[0m\u001b[0mnp\u001b[0m\u001b[0;34m.\u001b[0m\u001b[0marray\u001b[0m\u001b[0;34m(\u001b[0m\u001b[0;34m[\u001b[0m \u001b[0;36m40.\u001b[0m\u001b[0;34m,\u001b[0m  \u001b[0;36m20.\u001b[0m\u001b[0;34m]\u001b[0m\u001b[0;34m)\u001b[0m\u001b[0;34m)\u001b[0m\u001b[0;34m\u001b[0m\u001b[0m\n\u001b[1;32m      2\u001b[0m \u001b[0;34m\u001b[0m\u001b[0m\n\u001b[0;32m----> 3\u001b[0;31m \u001b[0mhey\u001b[0m\u001b[0;34m.\u001b[0m\u001b[0mgetReactionRate\u001b[0m\u001b[0;34m(\u001b[0m\u001b[0;34m)\u001b[0m\u001b[0;34m\u001b[0m\u001b[0m\n\u001b[0m",
      "\u001b[0;32m/Users/hidenoritanaka/Documents/GitHub/cs207-FinalProject/chemkin.py\u001b[0m in \u001b[0;36mgetReactionRate\u001b[0;34m(self)\u001b[0m\n\u001b[1;32m    299\u001b[0m \u001b[0;32mclass\u001b[0m \u001b[0mReactionSystem\u001b[0m\u001b[0;34m:\u001b[0m\u001b[0;34m\u001b[0m\u001b[0m\n\u001b[1;32m    300\u001b[0m     \u001b[0;32mdef\u001b[0m \u001b[0m__init__\u001b[0m\u001b[0;34m(\u001b[0m\u001b[0mself\u001b[0m\u001b[0;34m,\u001b[0m \u001b[0mT\u001b[0m\u001b[0;34m,\u001b[0m \u001b[0mR\u001b[0m\u001b[0;34m,\u001b[0m \u001b[0mconcs\u001b[0m\u001b[0;34m)\u001b[0m\u001b[0;34m:\u001b[0m\u001b[0;34m\u001b[0m\u001b[0m\n\u001b[0;32m--> 301\u001b[0;31m         \u001b[0mself\u001b[0m\u001b[0;34m.\u001b[0m\u001b[0mT\u001b[0m \u001b[0;34m=\u001b[0m \u001b[0mT\u001b[0m\u001b[0;34m\u001b[0m\u001b[0m\n\u001b[0m\u001b[1;32m    302\u001b[0m         \u001b[0mself\u001b[0m\u001b[0;34m.\u001b[0m\u001b[0mR\u001b[0m \u001b[0;34m=\u001b[0m \u001b[0mR\u001b[0m\u001b[0;34m\u001b[0m\u001b[0m\n\u001b[1;32m    303\u001b[0m         \u001b[0mself\u001b[0m\u001b[0;34m.\u001b[0m\u001b[0mconcs\u001b[0m \u001b[0;34m=\u001b[0m \u001b[0mconcs\u001b[0m\u001b[0;34m\u001b[0m\u001b[0m\n",
      "\u001b[0;31mAttributeError\u001b[0m: 'ReactionSystem' object has no attribute 'reaction_rate'"
     ]
    }
   ],
   "source": [
    "hey = chemkin.ReactionSystem(300,8.314,np.array([ 40.,  20.]))\n",
    "\n",
    "hey.build"
   ]
  },
  {
   "cell_type": "code",
   "execution_count": null,
   "metadata": {
    "collapsed": true
   },
   "outputs": [],
   "source": []
  },
  {
   "cell_type": "code",
   "execution_count": 103,
   "metadata": {
    "collapsed": true
   },
   "outputs": [],
   "source": [
    "def test_parse_Not_XML():\n",
    "    try:\n",
    "        chemkin.ChemUtil.parse( \"./test1.pdf\", 340, 8.314)\n",
    "    except ValueError as err:\n",
    "        assert(type(err) == ValueError)"
   ]
  },
  {
   "cell_type": "code",
   "execution_count": 150,
   "metadata": {},
   "outputs": [
    {
     "name": "stdout",
     "output_type": "stream",
     "text": [
      "2H2 + O2 =] 2OH + H2\n",
      "\trate coeff metadata: {'T': 340, 'R': 8.314, 'type': 'modifiedArrhenius', 'A': 100000000.0, 'b': 0.5, 'E': 50000.0}\n",
      "\treaction metadata: {'reversible': 'no', 'type': 'Elementary', 'id': 'reaction01'}\n",
      "OH + HO2 =] H2O + O2\n",
      "\trate coeff metadata: {'T': 340, 'R': 8.314, 'type': 'Constant'}\n",
      "\treaction metadata: {'reversible': 'no', 'type': 'Elementary', 'id': 'reaction02'}\n",
      "H2O + O2 =] HO2 + OH\n",
      "\trate coeff metadata: {'T': 340, 'R': 8.314, 'type': 'Arrhenius', 'A': 10000000.0, 'E': 10000.0}\n",
      "\treaction metadata: {'reversible': 'no', 'type': 'Elementary', 'id': 'reaction03'}\n"
     ]
    }
   ],
   "source": [
    "for i in range(3):\n",
    "    print( chemkin.ChemUtil.parse( \"./test1.xml\", 340, 8.314)[i] )"
   ]
  },
  {
   "cell_type": "code",
   "execution_count": null,
   "metadata": {
    "collapsed": true
   },
   "outputs": [],
   "source": [
    "chemkin.ChemUtil.Reaction.updateCoeff()"
   ]
  },
  {
   "cell_type": "code",
   "execution_count": 147,
   "metadata": {},
   "outputs": [],
   "source": [
    "import xml.etree.ElementTree as ET\n",
    "tree = ET.parse(\"./test1.xml\")\n",
    "root = tree.getroot()\n",
    "species = root.find(\"phase\").find(\"speciesArray\").text.strip().split(\" \")"
   ]
  },
  {
   "cell_type": "code",
   "execution_count": 169,
   "metadata": {},
   "outputs": [
    {
     "name": "stdout",
     "output_type": "stream",
     "text": [
      "2H2 + O2 =] 2OH + H2\n",
      "\trate coeff metadata: {'T': 340, 'R': 8.314, 'type': 'modifiedArrhenius', 'A': 100000000.0, 'b': 0.5, 'E': 50000.0}\n",
      "\treaction metadata: {'reversible': 'no', 'type': 'Elementary', 'id': 'reaction01'}\n"
     ]
    }
   ],
   "source": [
    "print( chemkin.ChemUtil.parse( \"./test1.xml\", 340, 8.314)[0] )"
   ]
  },
  {
   "cell_type": "code",
   "execution_count": 174,
   "metadata": {},
   "outputs": [
    {
     "name": "stdout",
     "output_type": "stream",
     "text": [
      "2H2 + O2 =] 2OH + H2\n",
      "\trate coeff metadata: {'T': 340, 'R': 8.314, 'type': 'modifiedArrhenius', 'A': 100000000.0, 'b': 0.5, 'E': 50000.0}\n",
      "\treaction metadata: {'reversible': 'no', 'type': 'Elementary', 'id': 'reaction01'}\n"
     ]
    }
   ],
   "source": [
    "print( chemkin.ChemUtil.parse( \"./test1.xml\", 340, 8.314)[0] )"
   ]
  },
  {
   "cell_type": "code",
   "execution_count": 209,
   "metadata": {},
   "outputs": [
    {
     "name": "stdout",
     "output_type": "stream",
     "text": [
      "\u001b[1m============================= test session starts ==============================\u001b[0m\n",
      "platform darwin -- Python 3.6.1, pytest-3.2.1, py-1.4.33, pluggy-0.4.0\n",
      "rootdir: /Users/hidenoritanaka/Documents/GitHub/cs207-FinalProject, inifile: setup.cfg\n",
      "plugins: cov-2.5.1\n",
      "collected 24 items                                                              \u001b[0m\u001b[1m\u001b[1m\n",
      "\n",
      "chemkin.py ......\n",
      "test_chemkin.py ..................Coverage.py warning: Module roots was never imported. (module-not-imported)\n",
      "Coverage.py warning: No data was collected. (no-data-collected)\n",
      "\n",
      "\n",
      "\u001b[32m\u001b[1m========================== 24 passed in 0.15 seconds ===========================\u001b[0m\n",
      "ERROR: Failed to generate report: No data to report.\n",
      "\n"
     ]
    }
   ],
   "source": [
    "!pytest"
   ]
  },
  {
   "cell_type": "code",
   "execution_count": 201,
   "metadata": {},
   "outputs": [
    {
     "data": {
      "text/plain": [
       "chemkin.Reaction"
      ]
     },
     "execution_count": 201,
     "metadata": {},
     "output_type": "execute_result"
    }
   ],
   "source": [
    ">>> type( chemkin.ChemUtil.parse( \"./test1.xml\", 340, 8.314)[0] )"
   ]
  },
  {
   "cell_type": "code",
   "execution_count": null,
   "metadata": {
    "collapsed": true
   },
   "outputs": [],
   "source": []
  }
 ],
 "metadata": {
  "kernelspec": {
   "display_name": "Python 3",
   "language": "python",
   "name": "python3"
  },
  "language_info": {
   "codemirror_mode": {
    "name": "ipython",
    "version": 3
   },
   "file_extension": ".py",
   "mimetype": "text/x-python",
   "name": "python",
   "nbconvert_exporter": "python",
   "pygments_lexer": "ipython3",
   "version": "3.6.1"
  }
 },
 "nbformat": 4,
 "nbformat_minor": 2
}
