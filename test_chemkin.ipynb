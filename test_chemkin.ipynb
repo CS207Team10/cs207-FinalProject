{
 "cells": [
  {
   "cell_type": "code",
   "execution_count": 61,
   "metadata": {},
   "outputs": [
    {
     "name": "stdout",
     "output_type": "stream",
     "text": [
      "Overwriting test_chemkin.py\n"
     ]
    }
   ],
   "source": [
    "%%file test_chemkin.py\n",
    "import numpy as np\n",
    "import chemkin\n",
    "\n",
    "#test k_const\n",
    "def test_k_const():\n",
    "    assert chemkin.ChemUtil.k_const(4.0) == 4.0\n",
    "    \n",
    "def test_k_const_neg():\n",
    "    try:\n",
    "        chemkin.ChemUtil.k_const(-1.0)\n",
    "    except ValueError as err:\n",
    "        assert(type(err) == ValueError)\n",
    "\n",
    "#test k_arr\n",
    "def test_k_arr():\n",
    "    assert chemkin.ChemUtil.k_arr(2.0, 3.0, 100.0) == 1.9927962618542914\n",
    "    \n",
    "def test_k_arr_A_neg():\n",
    "    try:\n",
    "        chemkin.ChemUtil.k_arr(-1.0, 3.0, 100.0)\n",
    "    except ValueError as err:\n",
    "        assert(type(err) == ValueError)\n",
    "        \n",
    "def test_k_arr_T_neg():\n",
    "    try:\n",
    "        chemkin.ChemUtil.k_arr(1.0, 3.0, -100.0)\n",
    "    except ValueError as err:\n",
    "        assert(type(err) == ValueError)\n",
    "\n",
    "def test_k_arr_R_neg():\n",
    "    try:\n",
    "        chemkin.ChemUtil.k_arr(1.0, 3.0, 100.0, -45.0)\n",
    "    except ValueError as err:\n",
    "        assert(type(err) == ValueError)\n",
    "\n",
    "#test k_mod_arr\n",
    "def test_k_mod_arr():\n",
    "    assert chemkin.ChemUtil.k_mod_arr(2.0, -0.5, 3.0, 100.0) == 0.19927962618542916\n",
    "    \n",
    "def test_k_mod_arr_A_neg():\n",
    "    try:\n",
    "        chemkin.ChemUtil.k_mod_arr(-1.0, 3.0, 4.0, 100.0)\n",
    "    except ValueError as err:\n",
    "        assert(type(err) == ValueError)\n",
    "        \n",
    "def test_k_mod_arr_T_neg():\n",
    "    try:\n",
    "        chemkin.ChemUtil.k_mod_arr(1.0, 3.0, 4.0, -100.0)\n",
    "    except ValueError as err:\n",
    "        assert(type(err) == ValueError)\n",
    "\n",
    "def test_k_mod_arr_R_neg():\n",
    "    try:\n",
    "        chemkin.ChemUtil.k_mod_arr(1.0, 3.0, 100.0, -4.9)\n",
    "    except ValueError as err:\n",
    "        assert(type(err) == ValueError)\n",
    "\n",
    "#test progress_rate\n",
    "def test_progress_rate():\n",
    "    assert(np.all(chemkin.ChemUtil.progress_rate(np.array([[2.0, 1.0], [1.0, 0.0], [0.0, 1.0]]), np.array([10.0, 10.0]), np.array([2.0, 1.0, 1.0])) == [40., 20.]))\n",
    "    \n",
    "def test_progress_rate_rj_neg():\n",
    "    try:\n",
    "        chemkin.ChemUtil.progress_rate(np.array([[2.0, 1.0], [1.0, 0.0], [0.0, 1.0]]), np.array([-10.0, -10.0]), np.array([2.0, 1.0, 1.0]))\n",
    "    except ValueError as err:\n",
    "        assert(type(err) == ValueError)\n",
    "        \n",
    "def test_progress_rate_concs_neg():\n",
    "    try:\n",
    "        chemkin.ChemUtil.progress_rate(np.array([[2.0, 1.0], [1.0, 0.0], [0.0, 1.0]]), np.array([10.0, 10.0]), np.array([-2.0, -1.0, -1.0]))\n",
    "    except ValueError as err:\n",
    "        assert(type(err) == ValueError)\n",
    "\n",
    "def test_progress_rate_nu_react_neg():\n",
    "    try:\n",
    "        chemkin.ChemUtil.progress_rate(np.array([[-2.0, -1.0], [1.0, 0.0], [0.0, 1.0]]), np.array([10.0, 10.0]), np.array([2.0, 1.0, 1.0]))\n",
    "    except ValueError as err:\n",
    "        assert(type(err) == ValueError)\n",
    "\n",
    "# test reaction_rate\n",
    "def test_reaction_rate():\n",
    "    assert(np.all(np.array([10.0, 10.0]), np.array([10.0, 10.0]), np.array([2.0, 1.0, 1.0])  == [ 500.,  560.,  580.]))\n",
    "   "
   ]
  },
  {
   "cell_type": "code",
   "execution_count": 39,
   "metadata": {},
   "outputs": [
    {
     "ename": "TypeError",
     "evalue": "reaction_rate() missing 1 required positional argument: 'concs'",
     "output_type": "error",
     "traceback": [
      "\u001b[0;31m---------------------------------------------------------------------------\u001b[0m",
      "\u001b[0;31mTypeError\u001b[0m                                 Traceback (most recent call last)",
      "\u001b[0;32m<ipython-input-39-daf07b6a34ca>\u001b[0m in \u001b[0;36m<module>\u001b[0;34m()\u001b[0m\n\u001b[1;32m      1\u001b[0m \u001b[0;32mimport\u001b[0m \u001b[0mnumpy\u001b[0m \u001b[0;32mas\u001b[0m \u001b[0mnp\u001b[0m\u001b[0;34m\u001b[0m\u001b[0m\n\u001b[1;32m      2\u001b[0m \u001b[0;32mimport\u001b[0m \u001b[0mchemkin\u001b[0m\u001b[0;34m\u001b[0m\u001b[0m\n\u001b[0;32m----> 3\u001b[0;31m \u001b[0mchemkin\u001b[0m\u001b[0;34m.\u001b[0m\u001b[0mChemUtil\u001b[0m\u001b[0;34m.\u001b[0m\u001b[0mreaction_rate\u001b[0m\u001b[0;34m(\u001b[0m\u001b[0mnp\u001b[0m\u001b[0;34m.\u001b[0m\u001b[0marray\u001b[0m\u001b[0;34m(\u001b[0m\u001b[0;34m[\u001b[0m\u001b[0;34m[\u001b[0m\u001b[0;36m2.0\u001b[0m\u001b[0;34m,\u001b[0m \u001b[0;36m1.0\u001b[0m\u001b[0;34m]\u001b[0m\u001b[0;34m,\u001b[0m \u001b[0;34m[\u001b[0m\u001b[0;36m1.0\u001b[0m\u001b[0;34m,\u001b[0m \u001b[0;36m0.0\u001b[0m\u001b[0;34m]\u001b[0m\u001b[0;34m,\u001b[0m \u001b[0;34m[\u001b[0m\u001b[0;36m0.0\u001b[0m\u001b[0;34m,\u001b[0m \u001b[0;36m1.0\u001b[0m\u001b[0;34m]\u001b[0m\u001b[0;34m]\u001b[0m\u001b[0;34m)\u001b[0m\u001b[0;34m,\u001b[0m \u001b[0mnp\u001b[0m\u001b[0;34m.\u001b[0m\u001b[0marray\u001b[0m\u001b[0;34m(\u001b[0m\u001b[0;34m[\u001b[0m\u001b[0;36m10.0\u001b[0m\u001b[0;34m,\u001b[0m \u001b[0;36m10.0\u001b[0m\u001b[0;34m]\u001b[0m\u001b[0;34m)\u001b[0m\u001b[0;34m,\u001b[0m \u001b[0mnp\u001b[0m\u001b[0;34m.\u001b[0m\u001b[0marray\u001b[0m\u001b[0;34m(\u001b[0m\u001b[0;34m[\u001b[0m\u001b[0;36m2.0\u001b[0m\u001b[0;34m,\u001b[0m \u001b[0;36m1.0\u001b[0m\u001b[0;34m,\u001b[0m \u001b[0;36m1.0\u001b[0m\u001b[0;34m]\u001b[0m\u001b[0;34m)\u001b[0m\u001b[0;34m)\u001b[0m\u001b[0;34m\u001b[0m\u001b[0m\n\u001b[0m",
      "\u001b[0;31mTypeError\u001b[0m: reaction_rate() missing 1 required positional argument: 'concs'"
     ]
    }
   ],
   "source": [
    "import numpy as np\n",
    "import chemkin\n",
    "chemkin.ChemUtil.reaction_rate(np.array([[2.0, 1.0], [1.0, 0.0], [0.0, 1.0]]), np.array([10.0, 10.0]), np.array([2.0, 1.0, 1.0]))"
   ]
  },
  {
   "cell_type": "code",
   "execution_count": 43,
   "metadata": {},
   "outputs": [
    {
     "data": {
      "text/plain": [
       "array([ 500.,  560.,  580.])"
      ]
     },
     "execution_count": 43,
     "metadata": {},
     "output_type": "execute_result"
    }
   ],
   "source": [
    "chemkin.ChemUtil.reaction_rate(np.array([[2.0, 1.0], [1.0, 0.0], [0.0, 1.0]]), np.array([10.0, 10.0]), np.array([10.0, 10.0]), np.array([2.0, 1.0, 1.0])) "
   ]
  },
  {
   "cell_type": "code",
   "execution_count": 62,
   "metadata": {},
   "outputs": [
    {
     "name": "stdout",
     "output_type": "stream",
     "text": [
      "\u001b[1m============================= test session starts ==============================\u001b[0m\n",
      "platform darwin -- Python 3.6.1, pytest-3.2.1, py-1.4.33, pluggy-0.4.0\n",
      "rootdir: /Users/hidenoritanaka/Documents/GitHub/cs207-FinalProject, inifile: setup.cfg\n",
      "plugins: cov-2.5.1\n",
      "collected 20 items                                                              \u001b[0m\u001b[1m\n",
      "\n",
      "chemkin.py .....\n",
      "test_chemkin.py ..............FCoverage.py warning: Module roots was never imported. (module-not-imported)\n",
      "Coverage.py warning: No data was collected. (no-data-collected)\n",
      "\n",
      "\n",
      "=================================== FAILURES ===================================\n",
      "\u001b[31m\u001b[1m______________________________ test_reaction_rate ______________________________\u001b[0m\n",
      "\n",
      "\u001b[1m    def test_reaction_rate():\u001b[0m\n",
      "\u001b[1m>       assert(np.all(np.array([10.0, 10.0]), np.array([10.0, 10.0]), np.array([2.0, 1.0, 1.0])  == [ 500.,  560.,  580.]))\u001b[0m\n",
      "\n",
      "\u001b[1m\u001b[31mtest_chemkin.py\u001b[0m:82: \n",
      "_ _ _ _ _ _ _ _ _ _ _ _ _ _ _ _ _ _ _ _ _ _ _ _ _ _ _ _ _ _ _ _ _ _ _ _ _ _ _ _ \n",
      "\u001b[1m\u001b[31m/anaconda/lib/python3.6/site-packages/numpy/core/fromnumeric.py\u001b[0m:2050: in all\n",
      "\u001b[1m    return arr.all(axis=axis, out=out, **kwargs)\u001b[0m\n",
      "_ _ _ _ _ _ _ _ _ _ _ _ _ _ _ _ _ _ _ _ _ _ _ _ _ _ _ _ _ _ _ _ _ _ _ _ _ _ _ _ \n",
      "\n",
      "a = array([ 10.,  10.]), axis = array([ 10.,  10.]), dtype = None\n",
      "out = array([False, False, False], dtype=bool), keepdims = False\n",
      "\n",
      "\u001b[1m    def _all(a, axis=None, dtype=None, out=None, keepdims=False):\u001b[0m\n",
      "\u001b[1m>       return umr_all(a, axis, dtype, out, keepdims)\u001b[0m\n",
      "\u001b[1m\u001b[31mE       TypeError: only integer scalar arrays can be converted to a scalar index\u001b[0m\n",
      "\n",
      "\u001b[1m\u001b[31m/anaconda/lib/python3.6/site-packages/numpy/core/_methods.py\u001b[0m:41: TypeError\n",
      "\u001b[31m\u001b[1m===================== 1 failed, 19 passed in 0.22 seconds ======================\u001b[0m\n",
      "ERROR: Failed to generate report: No data to report.\n",
      "\n"
     ]
    }
   ],
   "source": [
    "!pytest "
   ]
  },
  {
   "cell_type": "code",
   "execution_count": 46,
   "metadata": {},
   "outputs": [
    {
     "name": "stdout",
     "output_type": "stream",
     "text": [
      "\u001b[1m============================= test session starts ==============================\u001b[0m\n",
      "platform darwin -- Python 3.6.1, pytest-3.2.1, py-1.4.33, pluggy-0.4.0\n",
      "rootdir: /Users/hidenoritanaka/Documents/GitHub/cs207-FinalProject, inifile: setup.cfg\n",
      "plugins: cov-2.5.1\n",
      "collected 15 items                                                              \u001b[0m\u001b[1m\n",
      "\n",
      "test_chemkin.py ..............F\n",
      "\n",
      "---------- coverage: platform darwin, python 3.6.1-final-0 -----------\n",
      "Name              Stmts   Miss  Cover   Missing\n",
      "-----------------------------------------------\n",
      "chemkin.py          141     85    40%   111, 182-184, 188-243, 251-256, 260-263, 268-271, 274, 281-283, 286-292, 295-296, 299, 302, 305-309, 312, 316-326\n",
      "test_chemkin.py      62      0   100%\n",
      "-----------------------------------------------\n",
      "TOTAL               203     85    58%\n",
      "\n",
      "\n",
      "=================================== FAILURES ===================================\n",
      "\u001b[31m\u001b[1m______________________________ test_reaction_rate ______________________________\u001b[0m\n",
      "\n",
      "\u001b[1m    def test_reaction_rate():\u001b[0m\n",
      "\u001b[1m>       assert(np.all(np.array([10.0, 10.0]), np.array([10.0, 10.0]), np.array([2.0, 1.0, 1.0]))  == [ 500.,  560.,  580.])\u001b[0m\n",
      "\n",
      "\u001b[1m\u001b[31mtest_chemkin.py\u001b[0m:82: \n",
      "_ _ _ _ _ _ _ _ _ _ _ _ _ _ _ _ _ _ _ _ _ _ _ _ _ _ _ _ _ _ _ _ _ _ _ _ _ _ _ _ \n",
      "\u001b[1m\u001b[31m/anaconda/lib/python3.6/site-packages/numpy/core/fromnumeric.py\u001b[0m:2050: in all\n",
      "\u001b[1m    return arr.all(axis=axis, out=out, **kwargs)\u001b[0m\n",
      "_ _ _ _ _ _ _ _ _ _ _ _ _ _ _ _ _ _ _ _ _ _ _ _ _ _ _ _ _ _ _ _ _ _ _ _ _ _ _ _ \n",
      "\n",
      "a = array([ 10.,  10.]), axis = array([ 10.,  10.]), dtype = None\n",
      "out = array([ 2.,  1.,  1.]), keepdims = False\n",
      "\n",
      "\u001b[1m    def _all(a, axis=None, dtype=None, out=None, keepdims=False):\u001b[0m\n",
      "\u001b[1m>       return umr_all(a, axis, dtype, out, keepdims)\u001b[0m\n",
      "\u001b[1m\u001b[31mE       TypeError: only integer scalar arrays can be converted to a scalar index\u001b[0m\n",
      "\n",
      "\u001b[1m\u001b[31m/anaconda/lib/python3.6/site-packages/numpy/core/_methods.py\u001b[0m:41: TypeError\n",
      "\u001b[31m\u001b[1m===================== 1 failed, 14 passed in 0.22 seconds ======================\u001b[0m\n"
     ]
    }
   ],
   "source": [
    "!pytest --doctest-modules --cov --cov-report term-missing test_chemkin.py"
   ]
  },
  {
   "cell_type": "code",
   "execution_count": null,
   "metadata": {
    "collapsed": true
   },
   "outputs": [],
   "source": []
  }
 ],
 "metadata": {
  "kernelspec": {
   "display_name": "Python 3",
   "language": "python",
   "name": "python3"
  },
  "language_info": {
   "codemirror_mode": {
    "name": "ipython",
    "version": 3
   },
   "file_extension": ".py",
   "mimetype": "text/x-python",
   "name": "python",
   "nbconvert_exporter": "python",
   "pygments_lexer": "ipython3",
   "version": "3.6.1"
  }
 },
 "nbformat": 4,
 "nbformat_minor": 2
}
