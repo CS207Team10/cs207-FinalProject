{
 "cells": [
  {
   "cell_type": "code",
   "execution_count": 60,
   "metadata": {},
   "outputs": [
    {
     "name": "stdout",
     "output_type": "stream",
     "text": [
      "Overwriting test_chemkin.py\n"
     ]
    }
   ],
   "source": [
    "%%file test_chemkin.py\n",
    "import numpy as np\n",
    "import chemkin\n",
    "\n",
    "#test k_const\n",
    "def test_k_const():\n",
    "    assert chemkin.ChemUtil.k_const(4.0) == 4.0\n",
    "    \n",
    "def test_k_const_neg():\n",
    "    try:\n",
    "        chemkin.ChemUtil.k_const(-1.0)\n",
    "    except ValueError as err:\n",
    "        assert(type(err) == ValueError)\n",
    "\n",
    "#test k_arr\n",
    "def test_k_arr():\n",
    "    assert chemkin.ChemUtil.k_arr(2.0, 3.0, 100.0) == 1.9927962618542914\n",
    "    \n",
    "def test_k_arr_A_neg():\n",
    "    try:\n",
    "        chemkin.ChemUtil.k_arr(-1.0, 3.0, 100.0)\n",
    "    except ValueError as err:\n",
    "        assert(type(err) == ValueError)\n",
    "        \n",
    "def test_k_arr_T_neg():\n",
    "    try:\n",
    "        chemkin.ChemUtil.k_arr(1.0, 3.0, -100.0)\n",
    "    except ValueError as err:\n",
    "        assert(type(err) == ValueError)\n",
    "\n",
    "def test_k_arr_R_neg():\n",
    "    try:\n",
    "        chemkin.ChemUtil.k_arr(1.0, 3.0, 100.0, -45.0)\n",
    "    except ValueError as err:\n",
    "        assert(type(err) == ValueError)\n",
    "\n",
    "#test k_mod_arr\n",
    "def test_k_mod_arr():\n",
    "    assert chemkin.ChemUtil.k_mod_arr(2.0, -0.5, 3.0, 100.0) == 0.19927962618542916\n",
    "    \n",
    "def test_k_mod_arr_A_neg():\n",
    "    try:\n",
    "        chemkin.ChemUtil.k_mod_arr(-1.0, 3.0, 4.0, 100.0)\n",
    "    except ValueError as err:\n",
    "        assert(type(err) == ValueError)\n",
    "        \n",
    "def test_k_mod_arr_T_neg():\n",
    "    try:\n",
    "        chemkin.ChemUtil.k_mod_arr(1.0, 3.0, 4.0, -100.0)\n",
    "    except ValueError as err:\n",
    "        assert(type(err) == ValueError)\n",
    "\n",
    "def test_k_mod_arr_R_neg():\n",
    "    try:\n",
    "        chemkin.ChemUtil.k_mod_arr(1.0, 3.0, 100.0, -4.9)\n",
    "    except ValueError as err:\n",
    "        assert(type(err) == ValueError)\n",
    "\n",
    "#test progress_rate\n",
    "def test_progress_rate():\n",
    "    assert(np.all(chemkin.ChemUtil.progress_rate(np.array([[2.0, 1.0], [1.0, 0.0], [0.0, 1.0]]), np.array([10.0, 10.0]), np.array([2.0, 1.0, 1.0])) == [40., 20.]))\n",
    "    "
   ]
  },
  {
   "cell_type": "code",
   "execution_count": 65,
   "metadata": {},
   "outputs": [
    {
     "name": "stdout",
     "output_type": "stream",
     "text": [
      "\u001b[1m============================= test session starts ==============================\u001b[0m\n",
      "platform darwin -- Python 3.6.1, pytest-3.0.7, py-1.4.33, pluggy-0.4.0\n",
      "rootdir: /Users/sophiashu/cs207-FinalProject, inifile: setup.cfg\n",
      "plugins: cov-2.3.1\n",
      "collected 15 items \u001b[0m\u001b[1m\n",
      "\u001b[0m\n",
      "chemkin.py ....\n",
      "test_chemkin.py ...........Coverage.py warning: Module roots was never imported. (module-not-imported)\n",
      "Coverage.py warning: No data was collected. (no-data-collected)\n",
      "\n",
      "\n",
      "\u001b[32m\u001b[1m========================== 15 passed in 0.65 seconds ===========================\u001b[0m\n",
      "ERROR: Failed to generate report: No data to report.\n",
      "\n"
     ]
    }
   ],
   "source": [
    "!pytest"
   ]
  },
  {
   "cell_type": "code",
   "execution_count": null,
   "metadata": {
    "collapsed": true
   },
   "outputs": [],
   "source": []
  },
  {
   "cell_type": "code",
   "execution_count": null,
   "metadata": {
    "collapsed": true
   },
   "outputs": [],
   "source": []
  }
 ],
 "metadata": {
  "kernelspec": {
   "display_name": "Python 3",
   "language": "python",
   "name": "python3"
  },
  "language_info": {
   "codemirror_mode": {
    "name": "ipython",
    "version": 3
   },
   "file_extension": ".py",
   "mimetype": "text/x-python",
   "name": "python",
   "nbconvert_exporter": "python",
   "pygments_lexer": "ipython3",
   "version": "3.6.1"
  }
 },
 "nbformat": 4,
 "nbformat_minor": 2
}
