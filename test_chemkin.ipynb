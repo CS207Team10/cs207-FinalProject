{
 "cells": [
  {
   "cell_type": "code",
   "execution_count": 104,
   "metadata": {},
   "outputs": [
    {
     "name": "stdout",
     "output_type": "stream",
     "text": [
      "Overwriting test_chemkin.py\n"
     ]
    }
   ],
   "source": [
    "%%file test_chemkin.py\n",
    "import numpy as np\n",
    "import chemkin\n",
    "\n",
    "#test k_const\n",
    "def test_k_const():\n",
    "    assert chemkin.ChemUtil.k_const(4.0) == 4.0\n",
    "    \n",
    "def test_k_const_neg():\n",
    "    try:\n",
    "        chemkin.ChemUtil.k_const(-1.0)\n",
    "    except ValueError as err:\n",
    "        assert(type(err) == ValueError)\n",
    "\n",
    "#test k_arr\n",
    "def test_k_arr():\n",
    "    assert chemkin.ChemUtil.k_arr(2.0, 3.0, 100.0) == 1.9927962618542914\n",
    "    \n",
    "def test_k_arr_A_neg():\n",
    "    try:\n",
    "        chemkin.ChemUtil.k_arr(-1.0, 3.0, 100.0)\n",
    "    except ValueError as err:\n",
    "        assert(type(err) == ValueError)\n",
    "        \n",
    "def test_k_arr_T_neg():\n",
    "    try:\n",
    "        chemkin.ChemUtil.k_arr(1.0, 3.0, -100.0)\n",
    "    except ValueError as err:\n",
    "        assert(type(err) == ValueError)\n",
    "\n",
    "def test_k_arr_R_neg():\n",
    "    try:\n",
    "        chemkin.ChemUtil.k_arr(1.0, 3.0, 100.0, -45.0)\n",
    "    except ValueError as err:\n",
    "        assert(type(err) == ValueError)\n",
    "\n",
    "#test k_mod_arr\n",
    "def test_k_mod_arr():\n",
    "    assert chemkin.ChemUtil.k_mod_arr(2.0, -0.5, 3.0, 100.0) == 0.19927962618542916\n",
    "    \n",
    "def test_k_mod_arr_A_neg():\n",
    "    try:\n",
    "        chemkin.ChemUtil.k_mod_arr(-1.0, 3.0, 4.0, 100.0)\n",
    "    except ValueError as err:\n",
    "        assert(type(err) == ValueError)\n",
    "        \n",
    "def test_k_mod_arr_T_neg():\n",
    "    try:\n",
    "        chemkin.ChemUtil.k_mod_arr(1.0, 3.0, 4.0, -100.0)\n",
    "    except ValueError as err:\n",
    "        assert(type(err) == ValueError)\n",
    "\n",
    "def test_k_mod_arr_R_neg():\n",
    "    try:\n",
    "        chemkin.ChemUtil.k_mod_arr(1.0, 3.0, 100.0, -4.9)\n",
    "    except ValueError as err:\n",
    "        assert(type(err) == ValueError)\n",
    "\n",
    "#test progress_rate\n",
    "def test_progress_rate():\n",
    "    assert(np.all(chemkin.ChemUtil.progress_rate(np.array([[2.0, 1.0], [1.0, 0.0], [0.0, 1.0]]), np.array([10.0, 10.0]), np.array([2.0, 1.0, 1.0])) == [40., 20.]))\n",
    "    \n",
    "def test_progress_rate_rj_neg():\n",
    "    try:\n",
    "        chemkin.ChemUtil.progress_rate(np.array([[2.0, 1.0], [1.0, 0.0], [0.0, 1.0]]), np.array([-10.0, -10.0]), np.array([2.0, 1.0, 1.0]))\n",
    "    except ValueError as err:\n",
    "        assert(type(err) == ValueError)\n",
    "        \n",
    "def test_progress_rate_concs_neg():\n",
    "    try:\n",
    "        chemkin.ChemUtil.progress_rate(np.array([[2.0, 1.0], [1.0, 0.0], [0.0, 1.0]]), np.array([10.0, 10.0]), np.array([-2.0, -1.0, -1.0]))\n",
    "    except ValueError as err:\n",
    "        assert(type(err) == ValueError)\n",
    "\n",
    "def test_progress_rate_nu_react_neg():\n",
    "    try:\n",
    "        chemkin.ChemUtil.progress_rate(np.array([[-2.0, -1.0], [1.0, 0.0], [0.0, 1.0]]), np.array([10.0, 10.0]), np.array([2.0, 1.0, 1.0]))\n",
    "    except ValueError as err:\n",
    "        assert(type(err) == ValueError)\n",
    "\n",
    "# test reaction_rate\n",
    "def test_reaction_rate():\n",
    "    assert(np.all(chemkin.ChemUtil.reaction_rate(np.array([[2.0, 1.0], [1.0, 0.0], [0.0, 1.0]]), np.array([10.0, 10.0]), np.array([10.0, 10.0]), np.array([2.0, 1.0, 1.0])) ))\n",
    "\n",
    "# test parse\n",
    "def test_parse_Not_XML():\n",
    "    try:\n",
    "        chemkin.ChemUtil.parse( \"./test1.pdf\", 340, 8.314)\n",
    "    except ValueError as err:\n",
    "        assert(type(err) == ValueError)\n",
    "\n",
    "def test_parse_T_neg():\n",
    "    try:\n",
    "        chemkin.ChemUtil.parse( \"./test1.xml\", -340, 8.314)\n",
    "    except ValueError as err:\n",
    "        assert(type(err) == ValueError)\n",
    "        \n",
    "def test_parse_R_neg():\n",
    "    try:\n",
    "        chemkin.ChemUtil.parse( \"./test1.xml\", 340, -8.314)\n",
    "    except ValueError as err:\n",
    "        assert(type(err) == ValueError)"
   ]
  },
  {
   "cell_type": "code",
   "execution_count": 105,
   "metadata": {},
   "outputs": [
    {
     "name": "stdout",
     "output_type": "stream",
     "text": [
      "\u001b[1m============================= test session starts ==============================\u001b[0m\n",
      "platform darwin -- Python 3.6.1, pytest-3.2.1, py-1.4.33, pluggy-0.4.0\n",
      "rootdir: /Users/hidenoritanaka/Documents/GitHub/cs207-FinalProject, inifile: setup.cfg\n",
      "plugins: cov-2.5.1\n",
      "collected 23 items                                                              \u001b[0m\u001b[1m\n",
      "\n",
      "chemkin.py .....\n",
      "test_chemkin.py ..................Coverage.py warning: Module roots was never imported. (module-not-imported)\n",
      "Coverage.py warning: No data was collected. (no-data-collected)\n",
      "\n",
      "\n",
      "\u001b[32m\u001b[1m========================== 23 passed in 0.18 seconds ===========================\u001b[0m\n",
      "ERROR: Failed to generate report: No data to report.\n",
      "\n"
     ]
    }
   ],
   "source": [
    "!pytest "
   ]
  },
  {
   "cell_type": "markdown",
   "metadata": {},
   "source": [
    "# Examples"
   ]
  },
  {
   "cell_type": "code",
   "execution_count": 78,
   "metadata": {},
   "outputs": [],
   "source": [
    "import numpy as np\n",
    "import chemkin"
   ]
  },
  {
   "cell_type": "code",
   "execution_count": 79,
   "metadata": {},
   "outputs": [
    {
     "data": {
      "text/plain": [
       "array([ 500.,  560.,  580.])"
      ]
     },
     "execution_count": 79,
     "metadata": {},
     "output_type": "execute_result"
    }
   ],
   "source": [
    "# Example reaction_rate\n",
    "chemkin.ChemUtil.reaction_rate(np.array([[2.0, 1.0], [1.0, 0.0], [0.0, 1.0]]), np.array([10.0, 10.0]), np.array([10.0, 10.0]), np.array([2.0, 1.0, 1.0])) "
   ]
  },
  {
   "cell_type": "code",
   "execution_count": 99,
   "metadata": {},
   "outputs": [
    {
     "ename": "ValueError",
     "evalue": "T = -3.4000000000000000e+02:  Negative temperatures are prohibited!",
     "output_type": "error",
     "traceback": [
      "\u001b[0;31m---------------------------------------------------------------------------\u001b[0m",
      "\u001b[0;31mValueError\u001b[0m                                Traceback (most recent call last)",
      "\u001b[0;32m<ipython-input-99-033473d8ac7f>\u001b[0m in \u001b[0;36m<module>\u001b[0;34m()\u001b[0m\n\u001b[1;32m      1\u001b[0m \u001b[0;31m# Example parse\u001b[0m\u001b[0;34m\u001b[0m\u001b[0;34m\u001b[0m\u001b[0m\n\u001b[0;32m----> 2\u001b[0;31m \u001b[0mchemkin\u001b[0m\u001b[0;34m.\u001b[0m\u001b[0mChemUtil\u001b[0m\u001b[0;34m.\u001b[0m\u001b[0mparse\u001b[0m\u001b[0;34m(\u001b[0m \u001b[0;34m\"./test1.xml\"\u001b[0m\u001b[0;34m,\u001b[0m \u001b[0;34m-\u001b[0m\u001b[0;36m340\u001b[0m\u001b[0;34m,\u001b[0m \u001b[0;36m8.314\u001b[0m\u001b[0;34m)\u001b[0m\u001b[0;34m\u001b[0m\u001b[0m\n\u001b[0m",
      "\u001b[0;32m/Users/hidenoritanaka/Documents/GitHub/cs207-FinalProject/chemkin.py\u001b[0m in \u001b[0;36mparse\u001b[0;34m(cls, inputFile, T, R)\u001b[0m\n\u001b[1;32m    222\u001b[0m \u001b[0;34m\u001b[0m\u001b[0m\n\u001b[1;32m    223\u001b[0m             \u001b[0;31m# metadata for rate coeff and reaction\u001b[0m\u001b[0;34m\u001b[0m\u001b[0;34m\u001b[0m\u001b[0m\n\u001b[0;32m--> 224\u001b[0;31m             \u001b[0mrateCoeffMeta\u001b[0m \u001b[0;34m=\u001b[0m \u001b[0mdict\u001b[0m\u001b[0;34m(\u001b[0m\u001b[0;34m)\u001b[0m\u001b[0;34m\u001b[0m\u001b[0m\n\u001b[0m\u001b[1;32m    225\u001b[0m             \u001b[0mrateCoeffMeta\u001b[0m\u001b[0;34m[\u001b[0m\u001b[0;34m\"T\"\u001b[0m\u001b[0;34m]\u001b[0m \u001b[0;34m=\u001b[0m \u001b[0mT\u001b[0m\u001b[0;34m\u001b[0m\u001b[0m\n\u001b[1;32m    226\u001b[0m             \u001b[0mrateCoeffMeta\u001b[0m\u001b[0;34m[\u001b[0m\u001b[0;34m\"R\"\u001b[0m\u001b[0;34m]\u001b[0m \u001b[0;34m=\u001b[0m \u001b[0mR\u001b[0m\u001b[0;34m\u001b[0m\u001b[0m\n",
      "\u001b[0;32m/Users/hidenoritanaka/Documents/GitHub/cs207-FinalProject/chemkin.py\u001b[0m in \u001b[0;36mk_mod_arr\u001b[0;34m(cls, A, b, E, T, R)\u001b[0m\n\u001b[1;32m    106\u001b[0m \u001b[0;34m\u001b[0m\u001b[0m\n\u001b[1;32m    107\u001b[0m         \u001b[0;32mif\u001b[0m \u001b[0mT\u001b[0m \u001b[0;34m<\u001b[0m \u001b[0;36m0.0\u001b[0m\u001b[0;34m:\u001b[0m\u001b[0;34m\u001b[0m\u001b[0m\n\u001b[0;32m--> 108\u001b[0;31m             \u001b[0;32mraise\u001b[0m \u001b[0mValueError\u001b[0m\u001b[0;34m(\u001b[0m\u001b[0;34m\"T = {0:18.16e}:  Negative temperatures are prohibited!\"\u001b[0m\u001b[0;34m.\u001b[0m\u001b[0mformat\u001b[0m\u001b[0;34m(\u001b[0m\u001b[0mT\u001b[0m\u001b[0;34m)\u001b[0m\u001b[0;34m)\u001b[0m\u001b[0;34m\u001b[0m\u001b[0m\n\u001b[0m\u001b[1;32m    109\u001b[0m \u001b[0;34m\u001b[0m\u001b[0m\n\u001b[1;32m    110\u001b[0m         \u001b[0;32mif\u001b[0m \u001b[0mR\u001b[0m \u001b[0;34m<\u001b[0m \u001b[0;36m0.0\u001b[0m\u001b[0;34m:\u001b[0m\u001b[0;34m\u001b[0m\u001b[0m\n",
      "\u001b[0;31mValueError\u001b[0m: T = -3.4000000000000000e+02:  Negative temperatures are prohibited!"
     ]
    }
   ],
   "source": [
    "# Example parse\n",
    "chemkin.ChemUtil.parse( \"./test1.xml\", -340, 8.314)"
   ]
  },
  {
   "cell_type": "code",
   "execution_count": 103,
   "metadata": {
    "collapsed": true
   },
   "outputs": [],
   "source": [
    "def test_parse_Not_XML():\n",
    "    try:\n",
    "        chemkin.ChemUtil.parse( \"./test1.pdf\", 340, 8.314)\n",
    "    except ValueError as err:\n",
    "        assert(type(err) == ValueError)"
   ]
  },
  {
   "cell_type": "code",
   "execution_count": 102,
   "metadata": {},
   "outputs": [
    {
     "ename": "ValueError",
     "evalue": "Must be a valid xml file!",
     "output_type": "error",
     "traceback": [
      "\u001b[0;31m---------------------------------------------------------------------------\u001b[0m",
      "\u001b[0;31mFileNotFoundError\u001b[0m                         Traceback (most recent call last)",
      "\u001b[0;32m/Users/hidenoritanaka/Documents/GitHub/cs207-FinalProject/chemkin.py\u001b[0m in \u001b[0;36mparse\u001b[0;34m(cls, inputFile, T, R)\u001b[0m\n\u001b[1;32m    187\u001b[0m     \u001b[0;32mdef\u001b[0m \u001b[0mparse\u001b[0m\u001b[0;34m(\u001b[0m\u001b[0mcls\u001b[0m\u001b[0;34m,\u001b[0m \u001b[0minputFile\u001b[0m\u001b[0;34m,\u001b[0m \u001b[0mT\u001b[0m\u001b[0;34m,\u001b[0m \u001b[0mR\u001b[0m\u001b[0;34m)\u001b[0m\u001b[0;34m:\u001b[0m\u001b[0;34m\u001b[0m\u001b[0m\n\u001b[0;32m--> 188\u001b[0;31m         \"\"\"Returns the reaction rate of a system of irreversible, elementary reactions\n\u001b[0m\u001b[1;32m    189\u001b[0m \u001b[0;34m\u001b[0m\u001b[0m\n",
      "\u001b[0;32m/anaconda/lib/python3.6/xml/etree/ElementTree.py\u001b[0m in \u001b[0;36mparse\u001b[0;34m(source, parser)\u001b[0m\n\u001b[1;32m   1195\u001b[0m     \u001b[0mtree\u001b[0m \u001b[0;34m=\u001b[0m \u001b[0mElementTree\u001b[0m\u001b[0;34m(\u001b[0m\u001b[0;34m)\u001b[0m\u001b[0;34m\u001b[0m\u001b[0m\n\u001b[0;32m-> 1196\u001b[0;31m     \u001b[0mtree\u001b[0m\u001b[0;34m.\u001b[0m\u001b[0mparse\u001b[0m\u001b[0;34m(\u001b[0m\u001b[0msource\u001b[0m\u001b[0;34m,\u001b[0m \u001b[0mparser\u001b[0m\u001b[0;34m)\u001b[0m\u001b[0;34m\u001b[0m\u001b[0m\n\u001b[0m\u001b[1;32m   1197\u001b[0m     \u001b[0;32mreturn\u001b[0m \u001b[0mtree\u001b[0m\u001b[0;34m\u001b[0m\u001b[0m\n",
      "\u001b[0;32m/anaconda/lib/python3.6/xml/etree/ElementTree.py\u001b[0m in \u001b[0;36mparse\u001b[0;34m(self, source, parser)\u001b[0m\n\u001b[1;32m    585\u001b[0m         \u001b[0;32mif\u001b[0m \u001b[0;32mnot\u001b[0m \u001b[0mhasattr\u001b[0m\u001b[0;34m(\u001b[0m\u001b[0msource\u001b[0m\u001b[0;34m,\u001b[0m \u001b[0;34m\"read\"\u001b[0m\u001b[0;34m)\u001b[0m\u001b[0;34m:\u001b[0m\u001b[0;34m\u001b[0m\u001b[0m\n\u001b[0;32m--> 586\u001b[0;31m             \u001b[0msource\u001b[0m \u001b[0;34m=\u001b[0m \u001b[0mopen\u001b[0m\u001b[0;34m(\u001b[0m\u001b[0msource\u001b[0m\u001b[0;34m,\u001b[0m \u001b[0;34m\"rb\"\u001b[0m\u001b[0;34m)\u001b[0m\u001b[0;34m\u001b[0m\u001b[0m\n\u001b[0m\u001b[1;32m    587\u001b[0m             \u001b[0mclose_source\u001b[0m \u001b[0;34m=\u001b[0m \u001b[0;32mTrue\u001b[0m\u001b[0;34m\u001b[0m\u001b[0m\n",
      "\u001b[0;31mFileNotFoundError\u001b[0m: [Errno 2] No such file or directory: './test1.pdf'",
      "\nDuring handling of the above exception, another exception occurred:\n",
      "\u001b[0;31mValueError\u001b[0m                                Traceback (most recent call last)",
      "\u001b[0;32m<ipython-input-102-a51cc8485e3a>\u001b[0m in \u001b[0;36m<module>\u001b[0;34m()\u001b[0m\n\u001b[0;32m----> 1\u001b[0;31m \u001b[0mchemkin\u001b[0m\u001b[0;34m.\u001b[0m\u001b[0mChemUtil\u001b[0m\u001b[0;34m.\u001b[0m\u001b[0mparse\u001b[0m\u001b[0;34m(\u001b[0m \u001b[0;34m\"./test1.pdf\"\u001b[0m\u001b[0;34m,\u001b[0m \u001b[0;34m-\u001b[0m\u001b[0;36m340\u001b[0m\u001b[0;34m,\u001b[0m \u001b[0;36m8.314\u001b[0m\u001b[0;34m)\u001b[0m\u001b[0;34m\u001b[0m\u001b[0m\n\u001b[0m",
      "\u001b[0;32m/Users/hidenoritanaka/Documents/GitHub/cs207-FinalProject/chemkin.py\u001b[0m in \u001b[0;36mparse\u001b[0;34m(cls, inputFile, T, R)\u001b[0m\n\u001b[1;32m    188\u001b[0m         \"\"\"Returns the reaction rate of a system of irreversible, elementary reactions\n\u001b[1;32m    189\u001b[0m \u001b[0;34m\u001b[0m\u001b[0m\n\u001b[0;32m--> 190\u001b[0;31m         \u001b[0mINPUTS\u001b[0m\u001b[0;34m:\u001b[0m\u001b[0;34m\u001b[0m\u001b[0m\n\u001b[0m\u001b[1;32m    191\u001b[0m         \u001b[0;34m==\u001b[0m\u001b[0;34m==\u001b[0m\u001b[0;34m==\u001b[0m\u001b[0;34m=\u001b[0m\u001b[0;34m\u001b[0m\u001b[0m\n\u001b[1;32m    192\u001b[0m         \u001b[0minputFile\u001b[0m\u001b[0;34m:\u001b[0m\u001b[0mXML\u001b[0m \u001b[0mfile\u001b[0m\u001b[0;34m,\u001b[0m\u001b[0;34m\u001b[0m\u001b[0m\n",
      "\u001b[0;31mValueError\u001b[0m: Must be a valid xml file!"
     ]
    }
   ],
   "source": [
    "chemkin.ChemUtil.parse( \"./test1.pdf\", -340, 8.314)"
   ]
  },
  {
   "cell_type": "code",
   "execution_count": null,
   "metadata": {
    "collapsed": true
   },
   "outputs": [],
   "source": []
  }
 ],
 "metadata": {
  "kernelspec": {
   "display_name": "Python 3",
   "language": "python",
   "name": "python3"
  },
  "language_info": {
   "codemirror_mode": {
    "name": "ipython",
    "version": 3
   },
   "file_extension": ".py",
   "mimetype": "text/x-python",
   "name": "python",
   "nbconvert_exporter": "python",
   "pygments_lexer": "ipython3",
   "version": "3.6.1"
  }
 },
 "nbformat": 4,
 "nbformat_minor": 2
}
